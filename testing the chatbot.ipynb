{
 "cells": [
  {
   "cell_type": "code",
   "execution_count": 3,
   "id": "67eb0e0d",
   "metadata": {},
   "outputs": [
    {
     "name": "stdout",
     "output_type": "stream",
     "text": [
      "----------------------------------------------------------------------------\n",
      "\n",
      "Enter Hi to start the chatbot session; type 'exit' to quit): hi\n",
      "\n",
      "Hello! Welcome to AI Driven Financial Chatbot!!!\n",
      "\n",
      "I can help you with your financial queries\n",
      "Please select the company name from below: -\n",
      "\n",
      "1.Microsoft \n",
      "2.Tesla \n",
      "3.Apple\n",
      "Enter company name : tesla\n",
      "\n",
      "The data for the fiscal year 2023, 2022, and 2021 is currently available\n",
      "The fiscal year for the selected company : 2022\n",
      "\n",
      " Please entery your query\n",
      "/\n",
      "Sorry, I cannot only provide information on the predetermined query.\n",
      "----------------------------------------------------------------------------\n",
      "\n",
      "Enter Hi to start the chatbot session; type 'exit' to quit): hi\n",
      "\n",
      "Hello! Welcome to AI Driven Financial Chatbot!!!\n",
      "\n",
      "I can help you with your financial queries\n",
      "Please select the company name from below: -\n",
      "\n",
      "1.Microsoft \n",
      "2.Tesla \n",
      "3.Apple\n",
      "Enter company name : m\n",
      "Invalid Company Name. Please check and enter correct company name by starting the chatbot session again\n"
     ]
    }
   ],
   "source": [
    "%run FINANCIAL_CHATBOT.py"
   ]
  },
  {
   "cell_type": "code",
   "execution_count": 4,
   "id": "bd668caa",
   "metadata": {},
   "outputs": [
    {
     "name": "stdout",
     "output_type": "stream",
     "text": [
      "----------------------------------------------------------------------------\n",
      "\n",
      "Enter Hi to start the chatbot session; type 'exit' to quit): hi\n",
      "\n",
      "Hello! Welcome to AI Driven Financial Chatbot!!!\n",
      "\n",
      "I can help you with your financial queries\n",
      "Please select the company name from below: -\n",
      "\n",
      "1.Microsoft \n",
      "2.Tesla \n",
      "3.Apple\n",
      "Enter company name : apple\n",
      "\n",
      "The data for the fiscal year 2023, 2022, and 2021 is currently available\n",
      "The fiscal year for the selected company : 2002\n",
      "Please enter a valid fiscal year by starting the chatbot session again\n"
     ]
    }
   ],
   "source": [
    "%run FINANCIAL_CHATBOT.py\n"
   ]
  },
  {
   "cell_type": "code",
   "execution_count": 5,
   "id": "696a7bf6",
   "metadata": {},
   "outputs": [
    {
     "name": "stdout",
     "output_type": "stream",
     "text": [
      "----------------------------------------------------------------------------\n",
      "\n",
      "Enter Hi to start the chatbot session; type 'exit' to quit): hi\n",
      "\n",
      "Hello! Welcome to AI Driven Financial Chatbot!!!\n",
      "\n",
      "I can help you with your financial queries\n",
      "Please select the company name from below: -\n",
      "\n",
      "1.Microsoft \n",
      "2.Tesla \n",
      "3.Apple\n",
      "Enter company name : apple\n",
      "\n",
      "The data for the fiscal year 2023, 2022, and 2021 is currently available\n",
      "The fiscal year for the selected company : 2021\n",
      "\n",
      " Please entery your query\n",
      "what is the average yearly net income growth?\n",
      "The average yearly net income growth for Apple form 2021 to 2023 is 0.866(%)\n",
      "----------------------------------------------------------------------------\n",
      "\n",
      "Enter Hi to start the chatbot session; type 'exit' to quit): exit\n"
     ]
    }
   ],
   "source": [
    "%run FINANCIAL_CHATBOT.py\n"
   ]
  },
  {
   "cell_type": "code",
   "execution_count": null,
   "id": "7ea3fad8",
   "metadata": {},
   "outputs": [],
   "source": []
  }
 ],
 "metadata": {
  "kernelspec": {
   "display_name": "Python 3 (ipykernel)",
   "language": "python",
   "name": "python3"
  },
  "language_info": {
   "codemirror_mode": {
    "name": "ipython",
    "version": 3
   },
   "file_extension": ".py",
   "mimetype": "text/x-python",
   "name": "python",
   "nbconvert_exporter": "python",
   "pygments_lexer": "ipython3",
   "version": "3.9.12"
  }
 },
 "nbformat": 4,
 "nbformat_minor": 5
}
